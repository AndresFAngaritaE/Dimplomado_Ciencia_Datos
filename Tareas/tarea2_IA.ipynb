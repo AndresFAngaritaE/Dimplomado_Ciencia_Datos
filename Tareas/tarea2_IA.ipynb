{
  "nbformat": 4,
  "nbformat_minor": 0,
  "metadata": {
    "colab": {
      "private_outputs": true,
      "provenance": []
    },
    "kernelspec": {
      "name": "python3",
      "display_name": "Python 3"
    },
    "language_info": {
      "name": "python"
    }
  },
  "cells": [
    {
      "cell_type": "markdown",
      "source": [
        "## Tarea 2 funciones"
      ],
      "metadata": {
        "id": "Y8J21XgCAImB"
      }
    },
    {
      "cell_type": "markdown",
      "source": [
        "1. Escriba una función  que reciba la fecha de nacimiento de un a persona y calcule la edad de la persona"
      ],
      "metadata": {
        "id": "yTQDJvA0AG38"
      }
    },
    {
      "cell_type": "code",
      "execution_count": null,
      "metadata": {
        "id": "76M2eogA_4YO"
      },
      "outputs": [],
      "source": [
        "import datetime\n",
        "\n",
        "#Funcion que calcula la edad de una persona a partir de su fecha de nacimiento\n",
        "#recibe parametro nto de tipo string con formato yyyy-mm-dd\n",
        "#retorna la edad de tipo entero\n",
        "def calculateAge(nto):\n",
        "  cur = datetime.date.today()\n",
        "  try:\n",
        "    birth = datetime.datetime.strptime(nto,\"%Y-%m-%d\").date()\n",
        "    age = (cur-birth).days\n",
        "    return age//365\n",
        "  except:\n",
        "    print(\"el formato que ingresaste no es correcto\")  "
      ]
    },
    {
      "cell_type": "code",
      "source": [
        "#test\n",
        "fechaNto = input(\"Por favor ingresa la fecha de nacimiento en formato yyyy-mm-dd: \")\n",
        "calculateAge(fechaNto)"
      ],
      "metadata": {
        "id": "5fKA8O2mFIR6"
      },
      "execution_count": null,
      "outputs": []
    },
    {
      "cell_type": "markdown",
      "source": [
        "2. Crea una función EscribirCentrado, que reciba como parámetro un texto y lo escriba centrado en pantalla (suponiendo una anchura de 80 columnas; pista: deberás escribir 40 - longitud/2 espacios antes del texto).  "
      ],
      "metadata": {
        "id": "H62lDoPHHWQy"
      }
    },
    {
      "cell_type": "code",
      "source": [
        "#Codigo para obtener el ancho de la pantalla en pixeles\n",
        "from IPython.display import display, Javascript\n",
        "from google.colab import output\n",
        "display(Javascript('''\n",
        "    window.wid = window.innerWidth || document.documentElement.clientWidth || document.body.clientWidth;\n",
        "'''))\n",
        "\n",
        "anchito = output.eval_js('wid');"
      ],
      "metadata": {
        "id": "vjfzOyLHHa0r"
      },
      "execution_count": null,
      "outputs": []
    },
    {
      "cell_type": "code",
      "source": [
        "#Funcion que imprime eel texto recibido de manera centrada\n",
        "#recibe parametro texti de tipo string \n",
        "#imprime el texto centrado\n",
        "def EscribirCentrado(texti):\n",
        "  tamWord = len(texti)//2\n",
        "  #Suponiendo que una letra ocupa 8 px, se divide el tamaño de la pantalla entre 8 y luego se divide en 2 para buscar el centro de la pantalla\n",
        "  startPrint = (anchito//8//2)-tamWord\n",
        "  print(\" \"*startPrint,texti)"
      ],
      "metadata": {
        "id": "3BlHwKQZQhTm"
      },
      "execution_count": null,
      "outputs": []
    },
    {
      "cell_type": "code",
      "source": [
        "#test\n",
        "stri = input(\"Por favor ingresa el texto a ser centrado: \")\n",
        "EscribirCentrado(stri)"
      ],
      "metadata": {
        "id": "Pq86Q37gemZx"
      },
      "execution_count": null,
      "outputs": []
    },
    {
      "cell_type": "markdown",
      "source": [
        "3. Construya una función decorada que reciba un texto y lo escriba marcado con Markdown en itálica y resaltada (bold). Revise la lección de decoradores, no vista en clase."
      ],
      "metadata": {
        "id": "XLJaLy9Le7A5"
      }
    },
    {
      "cell_type": "code",
      "source": [
        "#funciones decoradoras con base en notas del profe\n",
        "def make_bold(fn):\n",
        "    def makebold_wrapper(t):\n",
        "        return \"**\" + fn(t) + \"**\"\n",
        "    return makebold_wrapper\n",
        "\n",
        "def make_italic(fn):\n",
        "    def makeitalic_wrapper(t):\n",
        "        return \"*\" + fn(t) + \"*\"\n",
        "    return makeitalic_wrapper"
      ],
      "metadata": {
        "id": "znQI5nSyfJDV"
      },
      "execution_count": null,
      "outputs": []
    },
    {
      "cell_type": "code",
      "source": [
        "from IPython.display import display, Markdown\n",
        "\n",
        "#funcion que recibe un dato y lo retorna\n",
        "@make_bold\n",
        "@make_italic\n",
        "def addBoldAndItalic(t):\n",
        "    return t"
      ],
      "metadata": {
        "id": "OpSU0LiVjQZR"
      },
      "execution_count": null,
      "outputs": []
    },
    {
      "cell_type": "code",
      "source": [
        "#test\n",
        "testa = input(\"Por favor ingrese el texto para agregarle negrita e italica: \")\n",
        "print(display(Markdown(addBoldAndItalic(testa))))"
      ],
      "metadata": {
        "id": "tvsoCHIymfdl"
      },
      "execution_count": null,
      "outputs": []
    },
    {
      "cell_type": "markdown",
      "source": [
        "4.  Crea un programa que pida dos número enteros al usuario y diga si alguno de ellos es múltiplo del otro. "
      ],
      "metadata": {
        "id": "5EAfF5WCoBKc"
      }
    },
    {
      "cell_type": "code",
      "source": [
        "#Funcion que verifica si un numero es multiplo del otro\n",
        "#recibe 2 numeros enteros\n",
        "#imprime el texto de verificacion\n",
        "def verifyMultiplicity(a,b):\n",
        "  try:\n",
        "    a = int(a)\n",
        "    b = int(b)\n",
        "    if (a%b == 0):\n",
        "      print(a, \"es multiplo de \", b)\n",
        "    elif (b%a == 0):\n",
        "      print(b, \"es multiplo de \", a)\n",
        "    else:\n",
        "      print(\"no es multiplo\")\n",
        "  except:\n",
        "    print(\"hay un error en la info ingresada, verifica e intenta de nuevo\")"
      ],
      "metadata": {
        "id": "ZtO7_RJ1oAjL"
      },
      "execution_count": null,
      "outputs": []
    },
    {
      "cell_type": "code",
      "source": [
        "#tests\n",
        "verifyMultiplicity(3,18)\n",
        "verifyMultiplicity(6,3)\n",
        "verifyMultiplicity(23,3)"
      ],
      "metadata": {
        "id": "y09OPLSOpNZe"
      },
      "execution_count": null,
      "outputs": []
    },
    {
      "cell_type": "code",
      "source": [
        "#test\n",
        "s,t = input(\"Por favor ingrese dos numeros para verificar si uno es multiplo de otro, separados por un espacio: \").split()\n",
        "\n",
        "verifyMultiplicity(s,t)"
      ],
      "metadata": {
        "id": "OHmgkLuUrymo"
      },
      "execution_count": null,
      "outputs": []
    },
    {
      "cell_type": "markdown",
      "source": [
        "5. Crear una función que reciba una lista  de 24 valores de temperatura leída  hora en un día y que calcule la temperatura media  Cree una lista con 24 valores de temperatura de un día de Bogotá y pruebe su función. Invente los datos."
      ],
      "metadata": {
        "id": "PVx-ZntZtj0E"
      }
    },
    {
      "cell_type": "code",
      "source": [
        "#Funcion que calcula la temperatura media a partir de un listado de temperaturas\n",
        "#recibe una lista de temperaturas \n",
        "#retorna la temperatura media\n",
        "def calcular_temperatura_media(temperaturas):\n",
        "    total = sum(temperaturas)\n",
        "    media = total / len(temperaturas)\n",
        "    return media"
      ],
      "metadata": {
        "id": "EzFsXf5Tt9N1"
      },
      "execution_count": null,
      "outputs": []
    },
    {
      "cell_type": "code",
      "source": [
        "#test\n",
        "temperaturas_bogota =[6,8,7,5,8,8,9,9,14,17,19,19,21,21,20,19,18,17,16,12,12,10,9,7]\n",
        "media_bogota = calcular_temperatura_media(temperaturas_bogota)\n",
        "print(\"La temperatura media en Bogotá es:\", media_bogota)"
      ],
      "metadata": {
        "id": "0x5bVEAx0h3I"
      },
      "execution_count": null,
      "outputs": []
    },
    {
      "cell_type": "markdown",
      "source": [
        "6. Crea un función “ConvertirEspaciado”, que reciba como parámetro un texto y devuelve una cadena con un espacio adicional tras cada letra. Por ejemplo, “Hola, tú” devolverá “H o l a , t ú “.  Pruebe "
      ],
      "metadata": {
        "id": "LZqPvouuOs_3"
      }
    },
    {
      "cell_type": "code",
      "source": [
        "#Funcion que le agrega espacios a una cadena de texto por cada caracter\n",
        "#Recibe una cadena de texto\n",
        "#devuelve el texto con espacios\n",
        "def ConvertirEspaciado(texto):\n",
        "    nuevo_texto = \"\"\n",
        "    for letra in texto:\n",
        "        nuevo_texto += letra + \" \"\n",
        "    return nuevo_texto"
      ],
      "metadata": {
        "id": "XI8eBoMJOsjQ"
      },
      "execution_count": null,
      "outputs": []
    },
    {
      "cell_type": "code",
      "source": [
        "texto_ej = input(\"Ingrese el texto que desea espaciar: \")\n",
        "print(\"El texto convertido es: \", ConvertirEspaciado(texto_ej))"
      ],
      "metadata": {
        "id": "6uxctYFzYcUs"
      },
      "execution_count": null,
      "outputs": []
    },
    {
      "cell_type": "markdown",
      "source": [
        "6. Crea una función “calcularMaxMin” que recibe una arreglo con valores numérico y devuelve el valor máximo y el mínimo. "
      ],
      "metadata": {
        "id": "954DoWvBYvkX"
      }
    },
    {
      "cell_type": "code",
      "source": [
        "#funcion que recibe un arreglo y devuelve el valor maximo y el minimo\n",
        "#recibe como parametro un arreglo numerico\n",
        "#retorna 2 valores numericos\n",
        "def calcularMaxMin(arry):\n",
        "  return max(arry),min(arry)"
      ],
      "metadata": {
        "id": "PQ3x4IeIY-Dd"
      },
      "execution_count": null,
      "outputs": []
    },
    {
      "cell_type": "code",
      "source": [
        "M,n=calcularMaxMin([3,7,6,9,15,22,-1,-23])\n",
        "print(\"El valor maximo del arreglo es:\",M)\n",
        "print(\"El valor minimo del arreglo es:\",n)"
      ],
      "metadata": {
        "id": "RLWG1-yfZm-z"
      },
      "execution_count": null,
      "outputs": []
    },
    {
      "cell_type": "markdown",
      "source": [
        "7.  Diseñar una función que calcule el área y el perímetro de una circunferencia. "
      ],
      "metadata": {
        "id": "bQkjUTVxajew"
      }
    },
    {
      "cell_type": "code",
      "source": [
        "import numpy as np\n",
        "\n",
        "#Funcion que calcula el area y el perimetro de una circunferencia a partir de su radio\n",
        "#recibe como parametro el radio de la circunferencia\n",
        "#devuelve 2 valores enteros\n",
        "def areaYPerimetro(r):\n",
        "  a = np.pi * (r**2)\n",
        "  p = 2*np.pi*r\n",
        "  return a,p"
      ],
      "metadata": {
        "id": "0PVc8yjXaQfQ"
      },
      "execution_count": null,
      "outputs": []
    },
    {
      "cell_type": "code",
      "source": [
        "print(\"La circunferencia de radio 1 tiene como area: \",areaYPerimetro(1)[0],\" y perimetro: \",areaYPerimetro(1)[1])"
      ],
      "metadata": {
        "id": "8CbY7fG4bbfA"
      },
      "execution_count": null,
      "outputs": []
    },
    {
      "cell_type": "markdown",
      "source": [
        "8. Crear una función  llamada “Login”, que recibe un nombre de usuario y una contraseña y devuelva Verdadero si el nombre de usuario es “usuario1” y la contraseña es “asdasd”. Además recibe el número de intentos que se ha intentado hacer login y si no se ha podido hacer login incremente este valor."
      ],
      "metadata": {
        "id": "u9uKN8kmc1ha"
      }
    },
    {
      "cell_type": "code",
      "source": [
        "#funcion que loggea a un usuario, de acuerdo  a unos valores preestablecidos\n",
        "#recibe como parametro usuario, contraseña y los intentos que lleva\n",
        "#devuelva Verdadero si el nombre de usuario es “usuario1” y la contraseña es “asdasd” y retorna el numero de intentos\n",
        "def Login(user,pas,attempt):\n",
        "  res = False\n",
        "  if (user==\"usuario1\" and pas==\"asdasd\"):\n",
        "    res = True\n",
        "  attempt+=1\n",
        "  return res,attempt"
      ],
      "metadata": {
        "id": "clk6DIngdBFq"
      },
      "execution_count": null,
      "outputs": []
    },
    {
      "cell_type": "code",
      "source": [
        "#testeando la funcion\n",
        "import getpass\n",
        "\n",
        "intento = 0\n",
        "while True:\n",
        "  user = input(\"Por favor ingrese el usuario: \")\n",
        "  pswd = getpass.getpass('Por favor ingrese el password: ')\n",
        "  ingreso,intento = Login(user,pswd,intento) \n",
        "  if ingreso:\n",
        "    print(\"Registro satisfactorio!\")\n",
        "    print(\"Intentos: \",intento)\n",
        "    break;\n",
        "  else:\n",
        "    print(\"Usuario o clave incorrectos!,\\n intenta de nuevo... \")\n",
        "    print(\"Intentos: \",intento)  "
      ],
      "metadata": {
        "id": "Bapgh9fcky2a"
      },
      "execution_count": null,
      "outputs": []
    },
    {
      "cell_type": "markdown",
      "source": [
        "9. Crear una función recursiva que permita calcular el factorial de un número. Realiza un programa principal donde se lea un entero y se muestre el resultado del factorial. Revise la lección de funciones."
      ],
      "metadata": {
        "id": "zCoyxE7BpNBa"
      }
    },
    {
      "cell_type": "code",
      "source": [
        "#Funcion recursiva que calcula el factorial de un numero\n",
        "#recibe como parametro un numero\n",
        "#Retorna el valor del factorial \n",
        "def factorial(n):\n",
        "  if n>=0:\n",
        "    if n<2:\n",
        "      return 1;\n",
        "    else:\n",
        "      return n*factorial(n-1)"
      ],
      "metadata": {
        "id": "aPP6wj8vpVBg"
      },
      "execution_count": null,
      "outputs": []
    },
    {
      "cell_type": "code",
      "source": [
        "#test\n",
        "print(factorial(-1))\n",
        "print(factorial(0))\n",
        "print(factorial(1))\n",
        "print(factorial(7))"
      ],
      "metadata": {
        "id": "OHeyLmSxr05p"
      },
      "execution_count": null,
      "outputs": []
    },
    {
      "cell_type": "markdown",
      "source": [
        "10 Escribir dos funciones que permitan calcular:\n",
        "\n",
        "- La cantidad de segundos en un tiempo dado en horas, minutos y segundos.\n",
        "- La cantidad de horas, minutos y segundos de un tiempo dado en segundos"
      ],
      "metadata": {
        "id": "zpnE7hR9sDv3"
      }
    },
    {
      "cell_type": "code",
      "source": [
        "#Funcion que calcula la cantidad de segundos de acuerdo a un tiempo\n",
        "#recibe como parametros las horas minutos y segundos\n",
        "#devuelve un entero con los segundos\n",
        "def cantSec(h, m, s):\n",
        "    return int(h) * 3600 + int(m) * 60 + int(s)\n",
        "\n",
        "#funcion que pasa segundos a horas minutos y segundos\n",
        "#recibe como parametro la cantidad de segundos\n",
        "#retorna una tupla con las horas, los minutos y los segundos\n",
        "def timeFromSec(s):\n",
        "    h = int(s) // 3600\n",
        "    segTemp = int(s) % 3600\n",
        "    m = segTemp // 60\n",
        "    seg = segTemp % 60\n",
        "    return h, m, seg"
      ],
      "metadata": {
        "id": "i0tc-kJStUOj"
      },
      "execution_count": null,
      "outputs": []
    },
    {
      "cell_type": "code",
      "source": [
        "#test\n",
        "h,m,s = input(\"Ingrese por favor el tiempo dado en horas minutos y segundos separados por espacios: \").split()\n",
        "se = input(\"Ingrese los segundos a ser convertidos: \")\n",
        "print(\"\\n\\n------------------------------------------\")\n",
        "print(\"Los segundos del primer tiempo dado son: \",cantSec(h,m,s))\n",
        "\n",
        "ho,mi,seg = timeFromSec(se)\n",
        "print(\"dado el tiempo en segundos,\\nlas horas son: \",ho,\" \\nlos minutos son: \",mi,\"\\ny los segundos son: \",seg)"
      ],
      "metadata": {
        "id": "XJDNnXMM2VIA"
      },
      "execution_count": null,
      "outputs": []
    },
    {
      "cell_type": "markdown",
      "source": [
        "11. Crea una función  que lea una tupla, invierta los valores de la tupla y regrese una nueva tupla invirtiendo los valores. Recuerde que las tuplas son inmutables."
      ],
      "metadata": {
        "id": "3bCuWhcY4ZAC"
      }
    },
    {
      "cell_type": "code",
      "source": [
        "#Funcion que invierte los valores de una tupla\n",
        "#recibe como parametro una tupla\n",
        "#retorna la tupla con los elementos invertidos\n",
        "def toggleTupla(tupla):\n",
        "\n",
        "    return tuple(reversed(tupla))"
      ],
      "metadata": {
        "id": "doiy8SMP4m-2"
      },
      "execution_count": null,
      "outputs": []
    },
    {
      "cell_type": "code",
      "source": [
        "#test\n",
        "t = (1, 2, 3, 4, 5)\n",
        "toogleT = toggleTupla(t)\n",
        "print(\"La lista invertida es: \",toogleT)"
      ],
      "metadata": {
        "id": "J76frRmY4sQr"
      },
      "execution_count": null,
      "outputs": []
    },
    {
      "cell_type": "markdown",
      "source": [
        "12. Escriba una función que lea una lista y calcule la media geométrica de sus valores, usando funtools.reduce."
      ],
      "metadata": {
        "id": "fPBbAFhN4vvF"
      }
    },
    {
      "cell_type": "code",
      "source": [
        "import functools\n",
        "\n",
        "#Funcion que calcula la media geometrica de un listado de numeros\n",
        "#recibe como parametro una lista de numeros\n",
        "#retorna el valor de la media geometrica\n",
        "def mediaGeometrica(lista):\n",
        "    prod = functools.reduce(lambda x, y: x * y, lista)\n",
        "    return prod ** (1/(len(lista)))"
      ],
      "metadata": {
        "id": "us_K4ZGO42Wo"
      },
      "execution_count": null,
      "outputs": []
    },
    {
      "cell_type": "code",
      "source": [
        "l = [1, 8, 3, 6, 5]\n",
        "med = mediaGeometrica(l)\n",
        "print(\"La media geometrica de la lista: \",l,\"\\nes: \",med)"
      ],
      "metadata": {
        "id": "Quc39aGN5G_y"
      },
      "execution_count": null,
      "outputs": []
    },
    {
      "cell_type": "markdown",
      "source": [
        "Creado por: \n",
        "\n",
        "Andrés Fernando Angarita Espitia\n",
        "\n",
        "Estudiante de Estadistica\n",
        "\n",
        "Universidad Nacional de colombia\n",
        "\n",
        "2023"
      ],
      "metadata": {
        "id": "S2hWzlBs8Ovt"
      }
    }
  ]
}