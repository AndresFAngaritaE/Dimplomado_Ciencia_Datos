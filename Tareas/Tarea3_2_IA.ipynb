{
  "nbformat": 4,
  "nbformat_minor": 0,
  "metadata": {
    "colab": {
      "private_outputs": true,
      "provenance": []
    },
    "kernelspec": {
      "name": "python3",
      "display_name": "Python 3"
    },
    "language_info": {
      "name": "python"
    }
  },
  "cells": [
    {
      "cell_type": "markdown",
      "source": [
        "## Tarea 3. Programación orientada a objetos parte 2"
      ],
      "metadata": {
        "id": "W976JebaTzQs"
      }
    },
    {
      "cell_type": "markdown",
      "source": [
        "3 Escriba una clase con las siguientes funcionalidades:\n",
        "\n",
        "3.1 Al instanciar un objeto, lee un conjunto de datos numéricos. Por ejemplo puede usar el mismo conjunto de datos iris.csv. Instancie los datos en un dataframe de Pandas\n",
        "\n",
        "3.2 Implemente un método que calcule las estadísticas descriptivas básicas de cada una de las variables.\n",
        "\n",
        "3.3 Implemente un método que entregue los nombre de las variables disponibles.\n",
        "\n",
        "3.4 Implemente un método que reciba el nombre de una variable disponible dentro del objeto ( en el  dataframe) y regrese: sus estadísticas básicas:  media, mediana, desviación, percentiles q25, q50, q75 y dibuje un histograma de la distribución de la variable."
      ],
      "metadata": {
        "id": "eq_6g1k6g2zJ"
      }
    },
    {
      "cell_type": "code",
      "execution_count": null,
      "metadata": {
        "id": "tA42Qxq_LtAX"
      },
      "outputs": [],
      "source": [
        "import pandas as pd\n",
        "\n",
        "class BasicsIris:\n",
        "  '''\n",
        "  clase BasicsIris encargada de contener la información basica del conjunto de datos iris \n",
        "  y con metodos para retormar la informacion basica de sus variables y estadisticas descriptivas \n",
        "  de todas sus columnas o una sola\n",
        "  '''\n",
        "  dataIris = None\n",
        "  \n",
        "  def __init__(self):\n",
        "    self.dataIris = pd.read_csv(\"https://raw.githubusercontent.com/AprendizajeProfundo/diplomado-ciencia-de-datos/main/Aprendizaje_supervisado/Datos/Iris.csv\")\n",
        "  \n",
        "  def getBasicStatistics(self):\n",
        "    return self.dataIris.describe()\n",
        "\n",
        "  def getNamesOfVariables(self):\n",
        "    return self.dataIris.columns\n",
        "  \n",
        "  def getBasicStatisticsOfCol(self,variable):\n",
        "    return self.dataIris[variable].describe()"
      ]
    },
    {
      "cell_type": "code",
      "source": [
        "d = BasicsIris()\n",
        "print(d.getBasicStatistics())\n",
        "print(d.getNamesOfVariables())\n",
        "print(d.getBasicStatisticsOfCol(\"SepalLengthCm\"))"
      ],
      "metadata": {
        "id": "O4XYfL5CCI5B"
      },
      "execution_count": null,
      "outputs": []
    },
    {
      "cell_type": "markdown",
      "source": [
        "Creado por: \n",
        "\n",
        "Andrés Fernando Angarita Espitia\n",
        "\n",
        "Estudiante de Estadistica\n",
        "\n",
        "Universidad Nacional de colombia\n",
        "\n",
        "2023"
      ],
      "metadata": {
        "id": "27NrPRwoUABh"
      }
    }
  ]
}