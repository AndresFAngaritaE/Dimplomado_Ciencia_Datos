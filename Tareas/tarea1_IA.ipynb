{
  "nbformat": 4,
  "nbformat_minor": 0,
  "metadata": {
    "colab": {
      "private_outputs": true,
      "provenance": []
    },
    "kernelspec": {
      "name": "python3",
      "display_name": "Python 3"
    },
    "language_info": {
      "name": "python"
    }
  },
  "cells": [
    {
      "cell_type": "markdown",
      "source": [
        "# Introduccion al aprendizaje supervisado <img src=\"https://logos-world.net/wp-content/uploads/2021/10/Python-Symbol.png\" width=\"150\" align=\"right\">\n",
        "\n",
        " \n"
      ],
      "metadata": {
        "id": "TPiRbYMaporL"
      }
    },
    {
      "cell_type": "markdown",
      "source": [
        "#### Autor: \n",
        "\n",
        "Mi nombre es Andrés Angarita, soy estudiante de estadistica, actualmente estoy trabajando como desarrollador de software. Me apasiona adquirir nuevos conocimientos y justamente estoy en la materia de inteligencia artificial por que me llama la atencion el aprender temas relacionados con machine learning y deep learning.  "
      ],
      "metadata": {
        "id": "4xhuNEUWzY7G"
      }
    },
    {
      "cell_type": "markdown",
      "source": [
        "### El aprendizaje supervisado \n",
        "\n",
        "es una técnica de aprendizaje automático en la que se proporciona un conjunto de datos etiquetados como entrada y salida al modelo. El modelo aprende a mapear la entrada a la salida, y luego puede predecir la salida para nuevas entradas. En el aprendizaje supervisado, se espera que el modelo aprenda una función objetivo que haga una predicción precisa de la salida para nuevas entradas.\n",
        "\n",
        "Por ejemplo, si se quiere predecir el precio de una casa en función de su tamaño, número de habitaciones, ubicación, etc., se podría proporcionar al modelo un conjunto de datos de casas que incluya información sobre estas características, así como el precio de venta correspondiente. El modelo aprenderá a mapear estas características al precio de venta, y luego se puede utilizar para predecir el precio de venta de nuevas casas basadas en sus características.\n",
        "\n",
        "El aprendizaje supervisado se divide en dos categorías principales: la regresión y la clasificación. La regresión se utiliza para predecir un valor numérico continuo, como el precio de una casa, mientras que la clasificación se utiliza para predecir una etiqueta de clase, como si un correo electrónico es spam o no."
      ],
      "metadata": {
        "id": "za4hTdN-8HHd"
      }
    },
    {
      "cell_type": "markdown",
      "source": [
        "### Ejemplo\n",
        "\n",
        "un ejemplo común de aprendizaje supervisado es el de predicción de precios de casas. En este caso, se tiene un conjunto de datos con información de diferentes casas, como su tamaño, número de habitaciones, ubicación, entre otros, así como el precio de venta de cada casa.\n",
        "\n",
        "para este ejemplo se usa el modelo de regresion lineal para hacer la estimacion del precio de las casas la ecuación general del modelo de regresión lineal simple es:\n",
        "\n",
        "y = β₀ + β₁x + ε\n",
        "\n",
        "Donde:\n",
        "- y es la variable dependiente (la que se quiere predecir)\n",
        "- x es la variable independiente (la que se utiliza para predecir)\n",
        "- β₀ es el intercepto (el valor de y cuando x es cero)\n",
        "- β₁ es la pendiente (el cambio en y por cada unidad de cambio en x)\n",
        "- ε es el término de error (la diferencia entre el valor real de y y el valor predicho por el modelo)"
      ],
      "metadata": {
        "id": "veUtQgFh-3an"
      }
    },
    {
      "cell_type": "markdown",
      "source": [
        "#### referencias\n",
        "\n",
        "- Hastie, T., Tibshirani, R., & Friedman, J. (2009). The Elements of Statistical Learning: Data Mining, Inference, and Prediction. Springer.\n",
        "\n",
        "- Kuhn, M., & Johnson, K. (2013). Applied Predictive Modeling. Springer.\n",
        "\n",
        "- [Scikit-learn: Machine Learning in Python. (2022).](https://scikit-learn.org/stable/) \n"
      ],
      "metadata": {
        "id": "LQSw_KaO_we1"
      }
    }
  ]
}