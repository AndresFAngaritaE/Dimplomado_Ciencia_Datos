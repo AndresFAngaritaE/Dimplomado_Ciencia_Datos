{
  "nbformat": 4,
  "nbformat_minor": 0,
  "metadata": {
    "colab": {
      "private_outputs": true,
      "provenance": []
    },
    "kernelspec": {
      "name": "python3",
      "display_name": "Python 3"
    },
    "language_info": {
      "name": "python"
    }
  },
  "cells": [
    {
      "cell_type": "markdown",
      "source": [
        "## Tarea 3. Programación orientada a objetos parte 1"
      ],
      "metadata": {
        "id": "bbWmEKX61SsR"
      }
    },
    {
      "cell_type": "markdown",
      "source": [
        "1 Consiga el conjunto de datos iris.csv. En el repositorio de Aprendizaje Profundo encuentra alguna versión.\n",
        "\n",
        "2 Escriba una clase iterable que tenga la siguiente funcionalidad\n",
        "\n",
        "2.1 Al instanciar un objeto, lee el archivo de datos y lo coloca en un dataframe interno en la clase.\n",
        "\n",
        "2.2 Cada vez que se le pidan datos, debe regresar los dos siguientes datos.\n",
        "\n",
        "2.3 Entregue un error si los datos se han agotado"
      ],
      "metadata": {
        "id": "oHsxydMX1a37"
      }
    },
    {
      "cell_type": "code",
      "execution_count": null,
      "metadata": {
        "id": "rlAg3gVA1NvO"
      },
      "outputs": [],
      "source": [
        "import pandas as pd\n",
        "class IterIris:\n",
        "  '''\n",
        "  Clase IterIris, encargada de cargar un archivo csv del conjunto de datos iris\n",
        "  al momento de la instanciacion de un objeto de ella. \n",
        "  dado que esta configurada como iterable, entrega registros consecutivos de 2 en 2.\n",
        "  levanta una excepcion en el momento en que se llega a l limite del conjunto de datos\n",
        "  '''\n",
        "  def __init__(self):\n",
        "    self.val = 0\n",
        "    self.dataf = pd.read_csv(\"https://raw.githubusercontent.com/AprendizajeProfundo/diplomado-ciencia-de-datos/main/Aprendizaje_supervisado/Datos/Iris.csv\")\n",
        "    \n",
        "  def __iter__(self):\n",
        "    return self\n",
        "  \n",
        "  def __next__(self):\n",
        "    if self.val > len(self.dataf):\n",
        "      raise StopIteration\n",
        "    else:\n",
        "      a = self.val\n",
        "      self.val+=1\n",
        "      b = self.val\n",
        "      self.val+=1\n",
        "      return self.dataf.iloc[[a,b]]\n",
        "    return 0"
      ]
    },
    {
      "cell_type": "code",
      "source": [
        "try:\n",
        "  for i in IterIris():\n",
        "    print(i)\n",
        "except:\n",
        "  print(\"No hay mas datos!!!\")"
      ],
      "metadata": {
        "id": "cCbPyNsgBoii"
      },
      "execution_count": null,
      "outputs": []
    },
    {
      "cell_type": "markdown",
      "source": [
        "Creado por: \n",
        "\n",
        "Andrés Fernando Angarita Espitia\n",
        "\n",
        "Estudiante de Estadistica\n",
        "\n",
        "Universidad Nacional de colombia\n",
        "\n",
        "2023"
      ],
      "metadata": {
        "id": "89Ecp5SCT-CC"
      }
    }
  ]
}